{
 "cells": [
  {
   "cell_type": "code",
   "execution_count": 3,
   "source": [
    "import pandas as pd  \r\n",
    "import numpy as np  "
   ],
   "outputs": [],
   "metadata": {}
  },
  {
   "cell_type": "code",
   "execution_count": 4,
   "source": [
    "TRAINFEATURES_FILE = \"./data/train_values.csv\"\r\n",
    "TRAINLABELS_FILE = \"./data/train_labels.csv\"\r\n",
    "TESTFEATURES_FILE = \"./data/test_values.csv\""
   ],
   "outputs": [],
   "metadata": {}
  },
  {
   "cell_type": "code",
   "execution_count": 5,
   "source": [
    "X_full = pd.read_csv(TRAINFEATURES_FILE)\r\n",
    "y_full = pd.read_csv(TRAINLABELS_FILE)\r\n",
    "X_full.set_index([\"building_id\"], inplace=True)\r\n",
    "y_full.set_index([\"building_id\"], inplace=True)"
   ],
   "outputs": [],
   "metadata": {}
  },
  {
   "cell_type": "code",
   "execution_count": 6,
   "source": [
    "drop_columns = ['geo_level_1_id','geo_level_2_id','count_floors_pre_eq','legal_ownership_status','has_secondary_use']\r\n",
    "encode_features = ['land_surface_condition','foundation_type','roof_type','ground_floor_type','other_floor_type','position','plan_configuration', \\\r\n",
    "                    'has_superstructure_adobe_mud','has_superstructure_mud_mortar_stone','has_superstructure_stone_flag','has_superstructure_cement_mortar_stone', \\\r\n",
    "                    'has_superstructure_mud_mortar_brick','has_superstructure_cement_mortar_brick','has_superstructure_timber','has_superstructure_bamboo', \\\r\n",
    "                    'has_superstructure_rc_non_engineered','has_superstructure_rc_engineered','has_superstructure_other','has_secondary_use_agriculture', \\\r\n",
    "                    'has_secondary_use_hotel','has_secondary_use_rental','has_secondary_use_institution','has_secondary_use_school','has_secondary_use_industry', \\\r\n",
    "                    'has_secondary_use_health_post','has_secondary_use_gov_office','has_secondary_use_use_police','has_secondary_use_other']\r\n",
    "X = X_full.drop(drop_columns,axis = 1)"
   ],
   "outputs": [],
   "metadata": {}
  },
  {
   "cell_type": "code",
   "execution_count": 7,
   "source": [
    "X = pd.get_dummies(X, columns=encode_features, drop_first=True)"
   ],
   "outputs": [],
   "metadata": {}
  },
  {
   "cell_type": "code",
   "execution_count": 8,
   "source": [
    "from sklearn.model_selection import train_test_split\r\n",
    "\r\n",
    "X_train, X_test, y_train, y_test = train_test_split(X, y_full, test_size=0.2, random_state=0)  "
   ],
   "outputs": [],
   "metadata": {}
  },
  {
   "cell_type": "markdown",
   "source": [
    "# Decision Tree"
   ],
   "metadata": {}
  },
  {
   "cell_type": "code",
   "execution_count": 15,
   "source": [
    "from sklearn.tree import DecisionTreeClassifier\r\n",
    "dt = DecisionTreeClassifier(criterion='entropy',random_state=0)\r\n",
    "dt.fit(X_train, y_train)\r\n",
    "print(\"Accuracy on training set: {:.3f}\".format(dt.score(X_train, y_train)))\r\n",
    "print(\"Accuracy on test set: {:.3f}\".format(dt.score(X_test, y_test)))"
   ],
   "outputs": [
    {
     "output_type": "stream",
     "name": "stdout",
     "text": [
      "Accuracy on training set: 0.986\n",
      "Accuracy on test set: 0.582\n"
     ]
    }
   ],
   "metadata": {}
  },
  {
   "cell_type": "markdown",
   "source": [
    "# Random Forest"
   ],
   "metadata": {}
  },
  {
   "cell_type": "code",
   "execution_count": 9,
   "source": [
    "from sklearn.ensemble import RandomForestClassifier\r\n",
    "\r\n",
    "clf = RandomForestClassifier(n_estimators=200, random_state=0)  \r\n",
    "clf.fit(X_train, y_train)  \r\n",
    "y_pred = clf.predict(X_test)  "
   ],
   "outputs": [
    {
     "output_type": "stream",
     "name": "stderr",
     "text": [
      "C:\\Users\\jsm94\\AppData\\Local\\Temp/ipykernel_5932/2234027524.py:4: DataConversionWarning: A column-vector y was passed when a 1d array was expected. Please change the shape of y to (n_samples,), for example using ravel().\n",
      "  clf.fit(X_train, y_train)\n"
     ]
    }
   ],
   "metadata": {}
  },
  {
   "cell_type": "code",
   "execution_count": 14,
   "source": [
    "from sklearn.metrics import classification_report, confusion_matrix, accuracy_score\r\n",
    "\r\n",
    "print(confusion_matrix(y_test,y_pred))  \r\n",
    "print(classification_report(y_test,y_pred))  \r\n",
    "print(accuracy_score(y_test, y_pred))  "
   ],
   "outputs": [
    {
     "output_type": "stream",
     "name": "stdout",
     "text": [
      "[[ 2010  2556   413]\n",
      " [ 1422 22084  6197]\n",
      " [  293  9204  7942]]\n",
      "              precision    recall  f1-score   support\n",
      "\n",
      "           1       0.54      0.40      0.46      4979\n",
      "           2       0.65      0.74      0.70     29703\n",
      "           3       0.55      0.46      0.50     17439\n",
      "\n",
      "    accuracy                           0.61     52121\n",
      "   macro avg       0.58      0.53      0.55     52121\n",
      "weighted avg       0.61      0.61      0.61     52121\n",
      "\n",
      "0.6146466875155887\n"
     ]
    }
   ],
   "metadata": {}
  },
  {
   "cell_type": "code",
   "execution_count": 11,
   "source": [
    "import matplotlib.pyplot as plt\r\n",
    "\r\n",
    "from collections import OrderedDict\r\n",
    "from sklearn.datasets import make_classification\r\n",
    "from sklearn.ensemble import RandomForestClassifier"
   ],
   "outputs": [],
   "metadata": {}
  },
  {
   "cell_type": "code",
   "execution_count": null,
   "source": [],
   "outputs": [],
   "metadata": {}
  }
 ],
 "metadata": {
  "orig_nbformat": 4,
  "language_info": {
   "name": "python",
   "version": "3.8.0",
   "mimetype": "text/x-python",
   "codemirror_mode": {
    "name": "ipython",
    "version": 3
   },
   "pygments_lexer": "ipython3",
   "nbconvert_exporter": "python",
   "file_extension": ".py"
  },
  "kernelspec": {
   "name": "python3",
   "display_name": "Python 3.8.0 64-bit ('ISY5002': conda)"
  },
  "interpreter": {
   "hash": "6ea2da74c848e9142f67d4514760a69230be343f491de106e564f4009400fccb"
  }
 },
 "nbformat": 4,
 "nbformat_minor": 2
}